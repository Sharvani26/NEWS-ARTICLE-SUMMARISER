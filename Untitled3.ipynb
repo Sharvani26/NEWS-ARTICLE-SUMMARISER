{
  "nbformat": 4,
  "nbformat_minor": 0,
  "metadata": {
    "colab": {
      "name": "Untitled3.ipynb",
      "provenance": [],
      "authorship_tag": "ABX9TyNtsqrPxqr3CiqlqAy0jzlc",
      "include_colab_link": true
    },
    "kernelspec": {
      "name": "python3",
      "display_name": "Python 3"
    },
    "language_info": {
      "name": "python"
    },
    "accelerator": "GPU"
  },
  "cells": [
    {
      "cell_type": "markdown",
      "metadata": {
        "id": "view-in-github",
        "colab_type": "text"
      },
      "source": [
        "<a href=\"https://colab.research.google.com/github/Sharvani26/NEWS-ARTICLE-SUMMARISER/blob/main/Untitled3.ipynb\" target=\"_parent\"><img src=\"https://colab.research.google.com/assets/colab-badge.svg\" alt=\"Open In Colab\"/></a>"
      ]
    },
    {
      "cell_type": "code",
      "metadata": {
        "id": "8AzPfeZEqHAU"
      },
      "source": [
        "import tensorflow as tf\n",
        "import numpy as np\n",
        "import pandas as pd"
      ],
      "execution_count": null,
      "outputs": []
    },
    {
      "cell_type": "code",
      "metadata": {
        "id": "Vsm1VsqD7s82"
      },
      "source": [
        "! pip install datasets transformers sacrebleu"
      ],
      "execution_count": null,
      "outputs": []
    },
    {
      "cell_type": "code",
      "metadata": {
        "id": "uo2gFAtb3dZ2"
      },
      "source": [
        "model_checkpoint = \"Helsinki-NLP/opus-mt-tr-en\""
      ],
      "execution_count": 4,
      "outputs": []
    },
    {
      "cell_type": "code",
      "metadata": {
        "id": "IreSlFmlIrIm"
      },
      "source": [
        "from datasets import load_dataset, load_metric\n",
        "\n",
        "raw_datasets = load_dataset(\"wmt16\", \"tr-en\")\n",
        "metric = load_metric(\"sacrebleu\")"
      ],
      "execution_count": null,
      "outputs": []
    },
    {
      "cell_type": "code",
      "metadata": {
        "id": "l6khDnficTXn"
      },
      "source": [
        "! pip install sentencepiece"
      ],
      "execution_count": null,
      "outputs": []
    },
    {
      "cell_type": "code",
      "metadata": {
        "id": "eXNLu_-nIrJI"
      },
      "source": [
        "from transformers import AutoTokenizer\n",
        "    \n",
        "tokenizer = AutoTokenizer.from_pretrained(model_checkpoint)"
      ],
      "execution_count": null,
      "outputs": []
    },
    {
      "cell_type": "code",
      "metadata": {
        "id": "Jbgr_pZfcLZd"
      },
      "source": [
        "if \"mbart\" in model_checkpoint:\n",
        "    tokenizer.src_lang = \"tr-TR\"\n",
        "    tokenizer.tgt_lang = \"en-XX\""
      ],
      "execution_count": 8,
      "outputs": []
    },
    {
      "cell_type": "code",
      "metadata": {
        "id": "Wfvy2eBhcLZi"
      },
      "source": [
        "if model_checkpoint in [\"t5-base\"]:\n",
        "    prefix = \"translate Turkish to English: \"\n",
        "else:\n",
        "    prefix = \"\""
      ],
      "execution_count": 9,
      "outputs": []
    },
    {
      "cell_type": "code",
      "metadata": {
        "id": "vc0BSBLIIrJQ"
      },
      "source": [
        "max_input_length = 128\n",
        "max_target_length = 128\n",
        "source_lang = \"tr\"\n",
        "target_lang = \"en\"\n",
        "\n",
        "def preprocess_function(examples):\n",
        "    inputs = [prefix + ex[source_lang] for ex in examples[\"translation\"]]\n",
        "    targets = [ex[target_lang] for ex in examples[\"translation\"]]\n",
        "    model_inputs = tokenizer(inputs, max_length=max_input_length, truncation=True)\n",
        "\n",
        "    # Setup the tokenizer for targets\n",
        "    with tokenizer.as_target_tokenizer():\n",
        "        labels = tokenizer(targets, max_length=max_target_length, truncation=True)\n",
        "\n",
        "    model_inputs[\"labels\"] = labels[\"input_ids\"]\n",
        "    return model_inputs"
      ],
      "execution_count": 10,
      "outputs": []
    },
    {
      "cell_type": "code",
      "metadata": {
        "id": "DDtsaJeVIrJT"
      },
      "source": [
        "tokenized_datasets = raw_datasets.map(preprocess_function, batched=True)"
      ],
      "execution_count": null,
      "outputs": []
    },
    {
      "cell_type": "code",
      "metadata": {
        "id": "TlqNaB8jIrJW"
      },
      "source": [
        "from transformers import AutoModelForSeq2SeqLM, DataCollatorForSeq2Seq, Seq2SeqTrainingArguments, Seq2SeqTrainer\n",
        "\n",
        "model = AutoModelForSeq2SeqLM.from_pretrained(model_checkpoint)"
      ],
      "execution_count": null,
      "outputs": []
    },
    {
      "cell_type": "code",
      "metadata": {
        "id": "Bliy8zgjIrJY"
      },
      "source": [
        "batch_size = 16\n",
        "args = Seq2SeqTrainingArguments(\n",
        "    \"test-translation\",\n",
        "    evaluation_strategy = \"epoch\",\n",
        "    learning_rate=2e-5,\n",
        "    per_device_train_batch_size=batch_size,\n",
        "    per_device_eval_batch_size=batch_size,\n",
        "    weight_decay=0.01,\n",
        "    save_total_limit=3,\n",
        "    num_train_epochs=1,\n",
        "    predict_with_generate=True,\n",
        "    fp16=True,\n",
        ")"
      ],
      "execution_count": null,
      "outputs": []
    },
    {
      "cell_type": "code",
      "metadata": {
        "id": "1S6s8LbucLZq"
      },
      "source": [
        "data_collator = DataCollatorForSeq2Seq(tokenizer, model=model)"
      ],
      "execution_count": 16,
      "outputs": []
    },
    {
      "cell_type": "code",
      "metadata": {
        "id": "UmvbnJ9JIrJd"
      },
      "source": [
        "import numpy as np\n",
        "\n",
        "def postprocess_text(preds, labels):\n",
        "    preds = [pred.strip() for pred in preds]\n",
        "    labels = [[label.strip()] for label in labels]\n",
        "\n",
        "    return preds, labels\n",
        "\n",
        "def compute_metrics(eval_preds):\n",
        "    preds, labels = eval_preds\n",
        "    if isinstance(preds, tuple):\n",
        "        preds = preds[0]\n",
        "    decoded_preds = tokenizer.batch_decode(preds, skip_special_tokens=True)\n",
        "\n",
        "    # Replace -100 in the labels as we can't decode them.\n",
        "    labels = np.where(labels != -100, labels, tokenizer.pad_token_id)\n",
        "    decoded_labels = tokenizer.batch_decode(labels, skip_special_tokens=True)\n",
        "\n",
        "    # Some simple post-processing\n",
        "    decoded_preds, decoded_labels = postprocess_text(decoded_preds, decoded_labels)\n",
        "\n",
        "    result = metric.compute(predictions=decoded_preds, references=decoded_labels)\n",
        "    result = {\"bleu\": result[\"score\"]}\n",
        "\n",
        "    prediction_lens = [np.count_nonzero(pred != tokenizer.pad_token_id) for pred in preds]\n",
        "    result[\"gen_len\"] = np.mean(prediction_lens)\n",
        "    result = {k: round(v, 4) for k, v in result.items()}\n",
        "    return result"
      ],
      "execution_count": 18,
      "outputs": []
    },
    {
      "cell_type": "code",
      "metadata": {
        "id": "imY1oC3SIrJf"
      },
      "source": [
        "trainer = Seq2SeqTrainer(\n",
        "    model,\n",
        "    args,\n",
        "    train_dataset=tokenized_datasets[\"train\"],\n",
        "    eval_dataset=tokenized_datasets[\"validation\"],\n",
        "    data_collator=data_collator,\n",
        "    tokenizer=tokenizer,\n",
        "    compute_metrics=compute_metrics\n",
        ")"
      ],
      "execution_count": null,
      "outputs": []
    },
    {
      "cell_type": "code",
      "metadata": {
        "id": "uNx5pyRlIrJh",
        "scrolled": false,
        "colab": {
          "base_uri": "https://localhost:8080/",
          "height": 1000
        },
        "outputId": "e483c681-942a-44f6-8d0c-4d05cdd5b0e9"
      },
      "source": [
        "trainer.train()"
      ],
      "execution_count": 20,
      "outputs": [
        {
          "output_type": "stream",
          "text": [
            "The following columns in the training set  don't have a corresponding argument in `MarianMTModel.forward` and have been ignored: translation.\n",
            "***** Running training *****\n",
            "  Num examples = 205756\n",
            "  Num Epochs = 1\n",
            "  Instantaneous batch size per device = 16\n",
            "  Total train batch size (w. parallel, distributed & accumulation) = 16\n",
            "  Gradient Accumulation steps = 1\n",
            "  Total optimization steps = 12860\n"
          ],
          "name": "stderr"
        },
        {
          "output_type": "display_data",
          "data": {
            "text/html": [
              "\n",
              "    <div>\n",
              "      \n",
              "      <progress value='12860' max='12860' style='width:300px; height:20px; vertical-align: middle;'></progress>\n",
              "      [12860/12860 35:04, Epoch 1/1]\n",
              "    </div>\n",
              "    <table border=\"1\" class=\"dataframe\">\n",
              "  <thead>\n",
              "    <tr style=\"text-align: left;\">\n",
              "      <th>Epoch</th>\n",
              "      <th>Training Loss</th>\n",
              "      <th>Validation Loss</th>\n",
              "      <th>Bleu</th>\n",
              "      <th>Gen Len</th>\n",
              "    </tr>\n",
              "  </thead>\n",
              "  <tbody>\n",
              "    <tr>\n",
              "      <td>1</td>\n",
              "      <td>1.083600</td>\n",
              "      <td>1.629132</td>\n",
              "      <td>27.850400</td>\n",
              "      <td>24.895100</td>\n",
              "    </tr>\n",
              "  </tbody>\n",
              "</table><p>"
            ],
            "text/plain": [
              "<IPython.core.display.HTML object>"
            ]
          },
          "metadata": {
            "tags": []
          }
        },
        {
          "output_type": "stream",
          "text": [
            "Saving model checkpoint to test-translation/checkpoint-500\n",
            "Configuration saved in test-translation/checkpoint-500/config.json\n",
            "Model weights saved in test-translation/checkpoint-500/pytorch_model.bin\n",
            "tokenizer config file saved in test-translation/checkpoint-500/tokenizer_config.json\n",
            "Special tokens file saved in test-translation/checkpoint-500/special_tokens_map.json\n",
            "Saving model checkpoint to test-translation/checkpoint-1000\n",
            "Configuration saved in test-translation/checkpoint-1000/config.json\n",
            "Model weights saved in test-translation/checkpoint-1000/pytorch_model.bin\n",
            "tokenizer config file saved in test-translation/checkpoint-1000/tokenizer_config.json\n",
            "Special tokens file saved in test-translation/checkpoint-1000/special_tokens_map.json\n",
            "/usr/local/lib/python3.7/dist-packages/transformers/trainer.py:1299: FutureWarning: Non-finite norm encountered in torch.nn.utils.clip_grad_norm_; continuing anyway. Note that the default behavior will change in a future release to error out if a non-finite total norm is encountered. At that point, setting error_if_nonfinite=false will be required to retain the old behavior.\n",
            "  args.max_grad_norm,\n",
            "Saving model checkpoint to test-translation/checkpoint-1500\n",
            "Configuration saved in test-translation/checkpoint-1500/config.json\n",
            "Model weights saved in test-translation/checkpoint-1500/pytorch_model.bin\n",
            "tokenizer config file saved in test-translation/checkpoint-1500/tokenizer_config.json\n",
            "Special tokens file saved in test-translation/checkpoint-1500/special_tokens_map.json\n",
            "Saving model checkpoint to test-translation/checkpoint-2000\n",
            "Configuration saved in test-translation/checkpoint-2000/config.json\n",
            "Model weights saved in test-translation/checkpoint-2000/pytorch_model.bin\n",
            "tokenizer config file saved in test-translation/checkpoint-2000/tokenizer_config.json\n",
            "Special tokens file saved in test-translation/checkpoint-2000/special_tokens_map.json\n",
            "Deleting older checkpoint [test-translation/checkpoint-500] due to args.save_total_limit\n",
            "Saving model checkpoint to test-translation/checkpoint-2500\n",
            "Configuration saved in test-translation/checkpoint-2500/config.json\n",
            "Model weights saved in test-translation/checkpoint-2500/pytorch_model.bin\n",
            "tokenizer config file saved in test-translation/checkpoint-2500/tokenizer_config.json\n",
            "Special tokens file saved in test-translation/checkpoint-2500/special_tokens_map.json\n",
            "Deleting older checkpoint [test-translation/checkpoint-1000] due to args.save_total_limit\n",
            "Saving model checkpoint to test-translation/checkpoint-3000\n",
            "Configuration saved in test-translation/checkpoint-3000/config.json\n",
            "Model weights saved in test-translation/checkpoint-3000/pytorch_model.bin\n",
            "tokenizer config file saved in test-translation/checkpoint-3000/tokenizer_config.json\n",
            "Special tokens file saved in test-translation/checkpoint-3000/special_tokens_map.json\n",
            "Deleting older checkpoint [test-translation/checkpoint-1500] due to args.save_total_limit\n",
            "Saving model checkpoint to test-translation/checkpoint-3500\n",
            "Configuration saved in test-translation/checkpoint-3500/config.json\n",
            "Model weights saved in test-translation/checkpoint-3500/pytorch_model.bin\n",
            "tokenizer config file saved in test-translation/checkpoint-3500/tokenizer_config.json\n",
            "Special tokens file saved in test-translation/checkpoint-3500/special_tokens_map.json\n",
            "Deleting older checkpoint [test-translation/checkpoint-2000] due to args.save_total_limit\n",
            "Saving model checkpoint to test-translation/checkpoint-4000\n",
            "Configuration saved in test-translation/checkpoint-4000/config.json\n",
            "Model weights saved in test-translation/checkpoint-4000/pytorch_model.bin\n",
            "tokenizer config file saved in test-translation/checkpoint-4000/tokenizer_config.json\n",
            "Special tokens file saved in test-translation/checkpoint-4000/special_tokens_map.json\n",
            "Deleting older checkpoint [test-translation/checkpoint-2500] due to args.save_total_limit\n",
            "Saving model checkpoint to test-translation/checkpoint-4500\n",
            "Configuration saved in test-translation/checkpoint-4500/config.json\n",
            "Model weights saved in test-translation/checkpoint-4500/pytorch_model.bin\n",
            "tokenizer config file saved in test-translation/checkpoint-4500/tokenizer_config.json\n",
            "Special tokens file saved in test-translation/checkpoint-4500/special_tokens_map.json\n",
            "Deleting older checkpoint [test-translation/checkpoint-3000] due to args.save_total_limit\n",
            "Saving model checkpoint to test-translation/checkpoint-5000\n",
            "Configuration saved in test-translation/checkpoint-5000/config.json\n",
            "Model weights saved in test-translation/checkpoint-5000/pytorch_model.bin\n",
            "tokenizer config file saved in test-translation/checkpoint-5000/tokenizer_config.json\n",
            "Special tokens file saved in test-translation/checkpoint-5000/special_tokens_map.json\n",
            "Deleting older checkpoint [test-translation/checkpoint-3500] due to args.save_total_limit\n",
            "/usr/local/lib/python3.7/dist-packages/transformers/trainer.py:1299: FutureWarning: Non-finite norm encountered in torch.nn.utils.clip_grad_norm_; continuing anyway. Note that the default behavior will change in a future release to error out if a non-finite total norm is encountered. At that point, setting error_if_nonfinite=false will be required to retain the old behavior.\n",
            "  args.max_grad_norm,\n",
            "Saving model checkpoint to test-translation/checkpoint-5500\n",
            "Configuration saved in test-translation/checkpoint-5500/config.json\n",
            "Model weights saved in test-translation/checkpoint-5500/pytorch_model.bin\n",
            "tokenizer config file saved in test-translation/checkpoint-5500/tokenizer_config.json\n",
            "Special tokens file saved in test-translation/checkpoint-5500/special_tokens_map.json\n",
            "Deleting older checkpoint [test-translation/checkpoint-4000] due to args.save_total_limit\n",
            "Saving model checkpoint to test-translation/checkpoint-6000\n",
            "Configuration saved in test-translation/checkpoint-6000/config.json\n",
            "Model weights saved in test-translation/checkpoint-6000/pytorch_model.bin\n",
            "tokenizer config file saved in test-translation/checkpoint-6000/tokenizer_config.json\n",
            "Special tokens file saved in test-translation/checkpoint-6000/special_tokens_map.json\n",
            "Deleting older checkpoint [test-translation/checkpoint-4500] due to args.save_total_limit\n",
            "Saving model checkpoint to test-translation/checkpoint-6500\n",
            "Configuration saved in test-translation/checkpoint-6500/config.json\n",
            "Model weights saved in test-translation/checkpoint-6500/pytorch_model.bin\n",
            "tokenizer config file saved in test-translation/checkpoint-6500/tokenizer_config.json\n",
            "Special tokens file saved in test-translation/checkpoint-6500/special_tokens_map.json\n",
            "Deleting older checkpoint [test-translation/checkpoint-5000] due to args.save_total_limit\n",
            "Saving model checkpoint to test-translation/checkpoint-7000\n",
            "Configuration saved in test-translation/checkpoint-7000/config.json\n",
            "Model weights saved in test-translation/checkpoint-7000/pytorch_model.bin\n",
            "tokenizer config file saved in test-translation/checkpoint-7000/tokenizer_config.json\n",
            "Special tokens file saved in test-translation/checkpoint-7000/special_tokens_map.json\n",
            "Deleting older checkpoint [test-translation/checkpoint-5500] due to args.save_total_limit\n",
            "Saving model checkpoint to test-translation/checkpoint-7500\n",
            "Configuration saved in test-translation/checkpoint-7500/config.json\n",
            "Model weights saved in test-translation/checkpoint-7500/pytorch_model.bin\n",
            "tokenizer config file saved in test-translation/checkpoint-7500/tokenizer_config.json\n",
            "Special tokens file saved in test-translation/checkpoint-7500/special_tokens_map.json\n",
            "Deleting older checkpoint [test-translation/checkpoint-6000] due to args.save_total_limit\n",
            "Saving model checkpoint to test-translation/checkpoint-8000\n",
            "Configuration saved in test-translation/checkpoint-8000/config.json\n",
            "Model weights saved in test-translation/checkpoint-8000/pytorch_model.bin\n",
            "tokenizer config file saved in test-translation/checkpoint-8000/tokenizer_config.json\n",
            "Special tokens file saved in test-translation/checkpoint-8000/special_tokens_map.json\n",
            "Deleting older checkpoint [test-translation/checkpoint-6500] due to args.save_total_limit\n",
            "/usr/local/lib/python3.7/dist-packages/transformers/trainer.py:1299: FutureWarning: Non-finite norm encountered in torch.nn.utils.clip_grad_norm_; continuing anyway. Note that the default behavior will change in a future release to error out if a non-finite total norm is encountered. At that point, setting error_if_nonfinite=false will be required to retain the old behavior.\n",
            "  args.max_grad_norm,\n",
            "Saving model checkpoint to test-translation/checkpoint-8500\n",
            "Configuration saved in test-translation/checkpoint-8500/config.json\n",
            "Model weights saved in test-translation/checkpoint-8500/pytorch_model.bin\n",
            "tokenizer config file saved in test-translation/checkpoint-8500/tokenizer_config.json\n",
            "Special tokens file saved in test-translation/checkpoint-8500/special_tokens_map.json\n",
            "Deleting older checkpoint [test-translation/checkpoint-7000] due to args.save_total_limit\n",
            "Saving model checkpoint to test-translation/checkpoint-9000\n",
            "Configuration saved in test-translation/checkpoint-9000/config.json\n",
            "Model weights saved in test-translation/checkpoint-9000/pytorch_model.bin\n",
            "tokenizer config file saved in test-translation/checkpoint-9000/tokenizer_config.json\n",
            "Special tokens file saved in test-translation/checkpoint-9000/special_tokens_map.json\n",
            "Deleting older checkpoint [test-translation/checkpoint-7500] due to args.save_total_limit\n",
            "Saving model checkpoint to test-translation/checkpoint-9500\n",
            "Configuration saved in test-translation/checkpoint-9500/config.json\n",
            "Model weights saved in test-translation/checkpoint-9500/pytorch_model.bin\n",
            "tokenizer config file saved in test-translation/checkpoint-9500/tokenizer_config.json\n",
            "Special tokens file saved in test-translation/checkpoint-9500/special_tokens_map.json\n",
            "Deleting older checkpoint [test-translation/checkpoint-8000] due to args.save_total_limit\n",
            "Saving model checkpoint to test-translation/checkpoint-10000\n",
            "Configuration saved in test-translation/checkpoint-10000/config.json\n",
            "Model weights saved in test-translation/checkpoint-10000/pytorch_model.bin\n",
            "tokenizer config file saved in test-translation/checkpoint-10000/tokenizer_config.json\n",
            "Special tokens file saved in test-translation/checkpoint-10000/special_tokens_map.json\n",
            "Deleting older checkpoint [test-translation/checkpoint-8500] due to args.save_total_limit\n",
            "Saving model checkpoint to test-translation/checkpoint-10500\n",
            "Configuration saved in test-translation/checkpoint-10500/config.json\n",
            "Model weights saved in test-translation/checkpoint-10500/pytorch_model.bin\n",
            "tokenizer config file saved in test-translation/checkpoint-10500/tokenizer_config.json\n",
            "Special tokens file saved in test-translation/checkpoint-10500/special_tokens_map.json\n",
            "Deleting older checkpoint [test-translation/checkpoint-9000] due to args.save_total_limit\n",
            "Saving model checkpoint to test-translation/checkpoint-11000\n",
            "Configuration saved in test-translation/checkpoint-11000/config.json\n",
            "Model weights saved in test-translation/checkpoint-11000/pytorch_model.bin\n",
            "tokenizer config file saved in test-translation/checkpoint-11000/tokenizer_config.json\n",
            "Special tokens file saved in test-translation/checkpoint-11000/special_tokens_map.json\n",
            "Deleting older checkpoint [test-translation/checkpoint-9500] due to args.save_total_limit\n",
            "/usr/local/lib/python3.7/dist-packages/transformers/trainer.py:1299: FutureWarning: Non-finite norm encountered in torch.nn.utils.clip_grad_norm_; continuing anyway. Note that the default behavior will change in a future release to error out if a non-finite total norm is encountered. At that point, setting error_if_nonfinite=false will be required to retain the old behavior.\n",
            "  args.max_grad_norm,\n",
            "Saving model checkpoint to test-translation/checkpoint-11500\n",
            "Configuration saved in test-translation/checkpoint-11500/config.json\n",
            "Model weights saved in test-translation/checkpoint-11500/pytorch_model.bin\n",
            "tokenizer config file saved in test-translation/checkpoint-11500/tokenizer_config.json\n",
            "Special tokens file saved in test-translation/checkpoint-11500/special_tokens_map.json\n",
            "Deleting older checkpoint [test-translation/checkpoint-10000] due to args.save_total_limit\n",
            "Saving model checkpoint to test-translation/checkpoint-12000\n",
            "Configuration saved in test-translation/checkpoint-12000/config.json\n",
            "Model weights saved in test-translation/checkpoint-12000/pytorch_model.bin\n",
            "tokenizer config file saved in test-translation/checkpoint-12000/tokenizer_config.json\n",
            "Special tokens file saved in test-translation/checkpoint-12000/special_tokens_map.json\n",
            "Deleting older checkpoint [test-translation/checkpoint-10500] due to args.save_total_limit\n",
            "Saving model checkpoint to test-translation/checkpoint-12500\n",
            "Configuration saved in test-translation/checkpoint-12500/config.json\n",
            "Model weights saved in test-translation/checkpoint-12500/pytorch_model.bin\n",
            "tokenizer config file saved in test-translation/checkpoint-12500/tokenizer_config.json\n",
            "Special tokens file saved in test-translation/checkpoint-12500/special_tokens_map.json\n",
            "Deleting older checkpoint [test-translation/checkpoint-11000] due to args.save_total_limit\n",
            "/usr/local/lib/python3.7/dist-packages/transformers/trainer.py:1299: FutureWarning: Non-finite norm encountered in torch.nn.utils.clip_grad_norm_; continuing anyway. Note that the default behavior will change in a future release to error out if a non-finite total norm is encountered. At that point, setting error_if_nonfinite=false will be required to retain the old behavior.\n",
            "  args.max_grad_norm,\n",
            "The following columns in the evaluation set  don't have a corresponding argument in `MarianMTModel.forward` and have been ignored: translation.\n",
            "***** Running Evaluation *****\n",
            "  Num examples = 1001\n",
            "  Batch size = 16\n",
            "/usr/local/lib/python3.7/dist-packages/torch/_tensor.py:575: UserWarning: floor_divide is deprecated, and will be removed in a future version of pytorch. It currently rounds toward 0 (like the 'trunc' function NOT 'floor'). This results in incorrect rounding for negative values.\n",
            "To keep the current behavior, use torch.div(a, b, rounding_mode='trunc'), or for actual floor division, use torch.div(a, b, rounding_mode='floor'). (Triggered internally at  /pytorch/aten/src/ATen/native/BinaryOps.cpp:467.)\n",
            "  return torch.floor_divide(self, other)\n",
            "\n",
            "\n",
            "Training completed. Do not forget to share your model on huggingface.co/models =)\n",
            "\n",
            "\n"
          ],
          "name": "stderr"
        },
        {
          "output_type": "execute_result",
          "data": {
            "text/plain": [
              "TrainOutput(global_step=12860, training_loss=1.1339616790344333, metrics={'train_runtime': 2105.0021, 'train_samples_per_second': 97.746, 'train_steps_per_second': 6.109, 'total_flos': 1.17596877643776e+16, 'train_loss': 1.1339616790344333, 'epoch': 1.0})"
            ]
          },
          "metadata": {
            "tags": []
          },
          "execution_count": 20
        }
      ]
    }
  ]
}